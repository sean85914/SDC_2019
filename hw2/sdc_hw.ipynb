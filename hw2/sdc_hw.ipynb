{
 "cells": [
  {
   "cell_type": "code",
   "execution_count": 1,
   "metadata": {},
   "outputs": [],
   "source": [
    "import numpy as np"
   ]
  },
  {
   "cell_type": "code",
   "execution_count": 49,
   "metadata": {},
   "outputs": [],
   "source": [
    "# 0: sunny, 1: cloudy, 2: rainy \n",
    "'''\n",
    "  @param\n",
    "    firstDay: weather of first data\n",
    "    n: how many day you want to show\n",
    "'''\n",
    "def getProbability(firstDay = 0, nDay=4):\n",
    "    M = np.array([[0.8, 0.4, 0.2], [0.2, 0.4, 0.6], [0, 0.2, 0.2]]) # transition matrix\n",
    "    v = np.zeros((3, 1))\n",
    "    v[firstDay] = 1\n",
    "    print(\"\\t  Sunny  Cloudy  Rainy\\t\\n\")\n",
    "    print(\"Day: {:d}  {:.5f} {:.5f} {:.5f}\\n\".format(1, v[0][0], v[1][0], v[2][0]))\n",
    "    for i in range(nDay-1):\n",
    "        v = np.dot(M, v)\n",
    "        print(\"Day: {:d}  {:.5f} {:.5f} {:.5f}\\n\".format(i+2, v[0][0], v[1][0], v[2][0]))"
   ]
  },
  {
   "cell_type": "code",
   "execution_count": 50,
   "metadata": {},
   "outputs": [
    {
     "name": "stdout",
     "output_type": "stream",
     "text": [
      "\t  Sunny  Cloudy  Rainy\t\n",
      "\n",
      "Day: 1  1.00000 0.00000 0.00000\n",
      "\n",
      "Day: 2  0.80000 0.20000 0.00000\n",
      "\n",
      "Day: 3  0.72000 0.24000 0.04000\n",
      "\n",
      "Day: 4  0.68000 0.26400 0.05600\n",
      "\n",
      "Day: 5  0.66080 0.27520 0.06400\n",
      "\n"
     ]
    }
   ],
   "source": [
    "getProbability(0, 5)"
   ]
  },
  {
   "cell_type": "code",
   "execution_count": 2,
   "metadata": {},
   "outputs": [],
   "source": [
    "M = np.array([[0.8, 0.4, 0.2], [0.2, 0.4, 0.6], [0, 0.2, 0.2]]) # transition matrix\n",
    "w, v = np.linalg.eig(M)"
   ]
  },
  {
   "cell_type": "code",
   "execution_count": 52,
   "metadata": {},
   "outputs": [
    {
     "data": {
      "text/plain": [
       "array([ 1.        ,  0.48284271, -0.08284271])"
      ]
     },
     "execution_count": 52,
     "metadata": {},
     "output_type": "execute_result"
    }
   ],
   "source": [
    "w"
   ]
  },
  {
   "cell_type": "code",
   "execution_count": 53,
   "metadata": {},
   "outputs": [
    {
     "data": {
      "text/plain": [
       "array([[-0.90913729,  0.81251992,  0.23258782],\n",
       "       [-0.40406102, -0.47596315, -0.79410449],\n",
       "       [-0.10101525, -0.33655677,  0.56151667]])"
      ]
     },
     "execution_count": 53,
     "metadata": {},
     "output_type": "execute_result"
    }
   ],
   "source": [
    "v"
   ]
  },
  {
   "cell_type": "code",
   "execution_count": 54,
   "metadata": {},
   "outputs": [],
   "source": [
    "dia = np.diag(w)"
   ]
  },
  {
   "cell_type": "code",
   "execution_count": 55,
   "metadata": {},
   "outputs": [
    {
     "data": {
      "text/plain": [
       "array([[ 1.        ,  0.        ,  0.        ],\n",
       "       [ 0.        ,  0.48284271,  0.        ],\n",
       "       [ 0.        ,  0.        , -0.08284271]])"
      ]
     },
     "execution_count": 55,
     "metadata": {},
     "output_type": "execute_result"
    }
   ],
   "source": [
    "dia"
   ]
  },
  {
   "cell_type": "code",
   "execution_count": 56,
   "metadata": {},
   "outputs": [],
   "source": [
    "dia_n = np.linalg.matrix_power(dia, 100)"
   ]
  },
  {
   "cell_type": "code",
   "execution_count": 57,
   "metadata": {},
   "outputs": [
    {
     "data": {
      "text/plain": [
       "array([[1.00000000e+000, 0.00000000e+000, 0.00000000e+000],\n",
       "       [0.00000000e+000, 2.40197288e-032, 0.00000000e+000],\n",
       "       [0.00000000e+000, 0.00000000e+000, 6.69007571e-109]])"
      ]
     },
     "execution_count": 57,
     "metadata": {},
     "output_type": "execute_result"
    }
   ],
   "source": [
    "dia_n"
   ]
  },
  {
   "cell_type": "code",
   "execution_count": 60,
   "metadata": {},
   "outputs": [
    {
     "data": {
      "text/plain": [
       "array([[0.64285714, 0.64285714, 0.64285714],\n",
       "       [0.28571429, 0.28571429, 0.28571429],\n",
       "       [0.07142857, 0.07142857, 0.07142857]])"
      ]
     },
     "execution_count": 60,
     "metadata": {},
     "output_type": "execute_result"
    }
   ],
   "source": [
    "np.dot(np.dot(v,dia_n), np.linalg.inv(v))"
   ]
  },
  {
   "cell_type": "code",
   "execution_count": 62,
   "metadata": {},
   "outputs": [
    {
     "data": {
      "text/plain": [
       "array([[ 6.42857143e-001, -0.00000000e+000, -0.00000000e+000],\n",
       "       [-0.00000000e+000,  7.36529507e-033,  0.00000000e+000],\n",
       "       [-0.00000000e+000,  0.00000000e+000,  3.78190628e-109]])"
      ]
     },
     "execution_count": 62,
     "metadata": {},
     "output_type": "execute_result"
    }
   ],
   "source": [
    "v*dia_n*np.linalg.inv(v)"
   ]
  },
  {
   "cell_type": "code",
   "execution_count": 66,
   "metadata": {},
   "outputs": [
    {
     "data": {
      "text/plain": [
       "1.1981174211304033"
      ]
     },
     "execution_count": 66,
     "metadata": {},
     "output_type": "execute_result"
    }
   ],
   "source": [
    "# entropy\n",
    "9./14*np.log2(14/9.)+4./14*np.log2(14/4.)+1./14*np.log2(14)"
   ]
  },
  {
   "cell_type": "code",
   "execution_count": 3,
   "metadata": {},
   "outputs": [],
   "source": [
    "C = np.array([[0.6, 0.3, 0], [0.4, 0.7, 0], [0, 0, 1]])"
   ]
  },
  {
   "cell_type": "code",
   "execution_count": 5,
   "metadata": {},
   "outputs": [
    {
     "data": {
      "text/plain": [
       "array([[0.54, 0.36, 0.3 ],\n",
       "       [0.46, 0.44, 0.5 ],\n",
       "       [0.  , 0.2 , 0.2 ]])"
      ]
     },
     "execution_count": 5,
     "metadata": {},
     "output_type": "execute_result"
    }
   ],
   "source": [
    "np.dot(C, M)"
   ]
  },
  {
   "cell_type": "code",
   "execution_count": 6,
   "metadata": {},
   "outputs": [
    {
     "data": {
      "text/plain": [
       "0.010368000000000002"
      ]
     },
     "execution_count": 6,
     "metadata": {},
     "output_type": "execute_result"
    }
   ],
   "source": [
    "0.6*0.54*0.04*0.8"
   ]
  },
  {
   "cell_type": "code",
   "execution_count": 8,
   "metadata": {},
   "outputs": [
    {
     "data": {
      "text/plain": [
       "array([[0.504, 0.42 , 0.384],\n",
       "       [0.456, 0.46 , 0.456],\n",
       "       [0.04 , 0.12 , 0.16 ]])"
      ]
     },
     "execution_count": 8,
     "metadata": {},
     "output_type": "execute_result"
    }
   ],
   "source": [
    "np.dot(C, np.linalg.matrix_power(M, 2))"
   ]
  },
  {
   "cell_type": "code",
   "execution_count": 10,
   "metadata": {},
   "outputs": [
    {
     "data": {
      "text/plain": [
       "0.8"
      ]
     },
     "execution_count": 10,
     "metadata": {},
     "output_type": "execute_result"
    }
   ],
   "source": [
    "(0.6*0.54*0.04*0.8)/(0.6*0.54*0.04*0.8+0.3*0.36*0.12*0.2)"
   ]
  },
  {
   "cell_type": "code",
   "execution_count": null,
   "metadata": {},
   "outputs": [],
   "source": []
  }
 ],
 "metadata": {
  "kernelspec": {
   "display_name": "Python 3",
   "language": "python",
   "name": "python3"
  },
  "language_info": {
   "codemirror_mode": {
    "name": "ipython",
    "version": 3
   },
   "file_extension": ".py",
   "mimetype": "text/x-python",
   "name": "python",
   "nbconvert_exporter": "python",
   "pygments_lexer": "ipython3",
   "version": "3.5.2"
  }
 },
 "nbformat": 4,
 "nbformat_minor": 2
}
